{
  "cells": [
    {
      "cell_type": "markdown",
      "metadata": {
        "id": "OGvHJpzKTL_I"
      },
      "source": [
        "Data Preparation"
      ]
    },
    {
      "cell_type": "code",
      "execution_count": 7,
      "metadata": {
        "colab": {
          "base_uri": "https://localhost:8080/"
        },
        "id": "vcNBlrbL2YvE",
        "outputId": "07923e31-d6b7-4a1f-84be-a72a27f77231"
      },
      "outputs": [
        {
          "output_type": "stream",
          "name": "stdout",
          "text": [
            "(4521, 17)\n",
            "<class 'pandas.core.frame.DataFrame'>\n",
            "RangeIndex: 4521 entries, 0 to 4520\n",
            "Data columns (total 33 columns):\n",
            " #   Column              Non-Null Count  Dtype\n",
            "---  ------              --------------  -----\n",
            " 0   age                 4521 non-null   int64\n",
            " 1   default             4521 non-null   int64\n",
            " 2   balance             4521 non-null   int64\n",
            " 3   housing             4521 non-null   int64\n",
            " 4   loan                4521 non-null   int64\n",
            " 5   contact             4521 non-null   int64\n",
            " 6   day                 4521 non-null   int64\n",
            " 7   month               4521 non-null   int64\n",
            " 8   duration            4521 non-null   int64\n",
            " 9   campaign            4521 non-null   int64\n",
            " 10  pdays               4521 non-null   int64\n",
            " 11  previous            4521 non-null   int64\n",
            " 12  poutcome            4521 non-null   int64\n",
            " 13  y                   4521 non-null   int64\n",
            " 14  job_admin.          4521 non-null   int64\n",
            " 15  job_blue-collar     4521 non-null   int64\n",
            " 16  job_entrepreneur    4521 non-null   int64\n",
            " 17  job_housemaid       4521 non-null   int64\n",
            " 18  job_management      4521 non-null   int64\n",
            " 19  job_retired         4521 non-null   int64\n",
            " 20  job_self-employed   4521 non-null   int64\n",
            " 21  job_services        4521 non-null   int64\n",
            " 22  job_student         4521 non-null   int64\n",
            " 23  job_technician      4521 non-null   int64\n",
            " 24  job_unemployed      4521 non-null   int64\n",
            " 25  job_unknown         4521 non-null   int64\n",
            " 26  education_divorced  4521 non-null   int64\n",
            " 27  education_married   4521 non-null   int64\n",
            " 28  education_single    4521 non-null   int64\n",
            " 29  marital_primary     4521 non-null   int64\n",
            " 30  marital_secondary   4521 non-null   int64\n",
            " 31  marital_tertiary    4521 non-null   int64\n",
            " 32  marital_unknown     4521 non-null   int64\n",
            "dtypes: int64(33)\n",
            "memory usage: 1.1 MB\n",
            "None\n",
            "(4521, 32)\n",
            "(4521,)\n",
            "(3164, 32)\n",
            "(1357, 32)\n",
            "(3164,)\n",
            "(1357,)\n"
          ]
        }
      ],
      "source": [
        "# Data Reading\n",
        "from pandas import read_csv, get_dummies, DataFrame, Series\n",
        "bank_data=read_csv('/content/drive/MyDrive/Colab Notebooks/Applied Analytics & Machine Learning/CA 1/bank.csv')\n",
        "print(bank_data.shape)\n",
        "\n",
        "# Data Encoding\n",
        "bank_data['default']= bank_data['default'].map({'yes':0,'no':1})\n",
        "bank_data['housing']= bank_data['housing'].map({'yes':0,'no':1})\n",
        "bank_data['loan']= bank_data['loan'].map({'yes':0,'no':1})\n",
        "bank_data['y']= bank_data['y'].map({'yes':0,'no':1})\n",
        "bank_data['poutcome']= bank_data['poutcome'].map({'unknown':0,'other':1,'failure':2,'success':3})\n",
        "bank_data['contact']= bank_data['contact'].map({'unknown':0,'telephone':1,'cellular':2})\n",
        "bank_data['month']= bank_data['month'].map({'jan':0,'feb':1,'mar':2,'apr':3,'may':4,'jun':5,'jul':6,'aug':7,'sep':8,'oct':9,'nov':10,'dec':11})\n",
        "bank_data=get_dummies(bank_data,['job','education','marital'],dtype=int)\n",
        "print(bank_data.info())\n",
        "# Dividing data into x and y\n",
        "x=bank_data.drop('y',axis=1)\n",
        "y=bank_data['y']\n",
        "print(x.shape)\n",
        "print(y.shape)\n",
        "\n",
        "# Data Scaling of x\n",
        "from sklearn.preprocessing import StandardScaler\n",
        "x_scaled=StandardScaler().fit_transform(x)\n",
        "DataFrame(x_scaled)\n",
        "\n",
        "#Data spliting\n",
        "from sklearn.model_selection import train_test_split\n",
        "x_train,x_test,y_train,y_test=train_test_split(x_scaled,y,test_size=0.3, random_state=100)\n",
        "print(x_train.shape)\n",
        "print(x_test.shape)\n",
        "print(y_train.shape)\n",
        "print(y_test.shape)\n",
        "\n",
        "# Data Balancing\n",
        "from imblearn.over_sampling import SMOTE\n",
        "x_train,y_train=SMOTE(random_state=100).fit_resample(x_train,y_train)"
      ]
    },
    {
      "cell_type": "code",
      "execution_count": 8,
      "metadata": {
        "colab": {
          "base_uri": "https://localhost:8080/"
        },
        "id": "7AGt7A6LFdt_",
        "outputId": "16273451-e8b5-4eec-a0ca-9bae2e577891"
      },
      "outputs": [
        {
          "output_type": "stream",
          "name": "stdout",
          "text": [
            "{'classification__n_estimators': 250}\n",
            "0.9484999999999999\n"
          ]
        }
      ],
      "source": [
        "# Using pipeline (method #3)\n",
        "from imblearn.pipeline import Pipeline\n",
        "from sklearn import ensemble\n",
        "from sklearn.model_selection import GridSearchCV\n",
        "RF_classifier = Pipeline([('balancing', SMOTE(random_state = 100)),('classification', ensemble.RandomForestClassifier(criterion='entropy', max_features='sqrt', random_state=1))]) # building classifier\n",
        "no_trees = {'classification__n_estimators': [100,150,200,250,300,350,400,450,500]}\n",
        "grid_search = GridSearchCV(estimator=RF_classifier, param_grid=no_trees, scoring='recall', cv=5)\n",
        "grid_search.fit(x_scaled, y)\n",
        "\n",
        "best_parameters = grid_search.best_params_\n",
        "print(best_parameters)\n",
        "best_result = grid_search.best_score_\n",
        "print(best_result)"
      ]
    },
    {
      "cell_type": "code",
      "execution_count": 14,
      "metadata": {
        "id": "7Kfo9N2oRey0"
      },
      "outputs": [],
      "source": [
        "# Building random forest (method #1 ) with the best number of trees\n",
        "RF_classifier = ensemble.RandomForestClassifier(n_estimators=250, criterion='entropy', max_features='sqrt', random_state=10)\n",
        "RF_classifier.fit(x_train,y_train)\n",
        "y_pred=RF_classifier.predict(x_test)# testing\n",
        "imp_features = Series(RF_classifier.feature_importances_, index=list(x)).sort_values(ascending=False)"
      ]
    },
    {
      "cell_type": "code",
      "execution_count": 16,
      "metadata": {
        "colab": {
          "base_uri": "https://localhost:8080/"
        },
        "id": "c6Ly_CTNfXAN",
        "outputId": "3ae8d79f-1bd3-4138-c1a5-56d8a34809b0"
      },
      "outputs": [
        {
          "output_type": "stream",
          "name": "stdout",
          "text": [
            "Accuracy =  0.8975681650700074\n",
            "[[  73   69]\n",
            " [  70 1145]]\n",
            "Recall =  0.9423868312757202\n",
            "Percision =  0.943163097199341\n",
            "f1 =  0.9427748044462742\n"
          ]
        }
      ],
      "source": [
        "# calculating accuaracy\n",
        "from sklearn import metrics\n",
        "accuracy=metrics.accuracy_score(y_test, y_pred) # calculating accuaracy\n",
        "print(\"Accuracy = \", accuracy) # Is this a good metric??\n",
        "con_matrix = metrics.confusion_matrix(y_test, y_pred)\n",
        "print (con_matrix)\n",
        "recall = metrics.recall_score(y_test, y_pred)\n",
        "print ('Recall = ',recall)\n",
        "percision=metrics.precision_score(y_test, y_pred)\n",
        "print('Percision = ',percision)\n",
        "f1=metrics.f1_score(y_test, y_pred)\n",
        "print('f1 = ',f1)"
      ]
    },
    {
      "cell_type": "code",
      "execution_count": 11,
      "metadata": {
        "colab": {
          "base_uri": "https://localhost:8080/"
        },
        "id": "DfgyXWWkgbiB",
        "outputId": "3718bd71-11b9-4767-9477-269ef032b09b"
      },
      "outputs": [
        {
          "output_type": "stream",
          "name": "stdout",
          "text": [
            "{'classification__C': 0.001, 'classification__kernel': 'poly'}\n",
            "0.9834999999999999\n"
          ]
        }
      ],
      "source": [
        "#  Support Vector Classifier (method#3)\n",
        "from sklearn import svm\n",
        "from imblearn.pipeline import Pipeline\n",
        "from sklearn.model_selection import GridSearchCV\n",
        "SV_classifier2 = Pipeline([('balancing', SMOTE(random_state = 101)),('classification', svm.SVC() ) ]) # bulilding classifier\n",
        "kernels_c = {'classification__kernel': ['linear','poly','rbf','sigmoid'], 'classification__C': [.001,.01,.1,1,10,100]}\n",
        "grid_search1 = GridSearchCV(estimator=SV_classifier2, param_grid=kernels_c, scoring='recall', cv=5)\n",
        "grid_search1.fit(x_scaled, y)\n",
        "\n",
        "best_parameters = grid_search1.best_params_\n",
        "print(best_parameters)\n",
        "best_result = grid_search1.best_score_\n",
        "print(best_result)"
      ]
    },
    {
      "cell_type": "code",
      "execution_count": 12,
      "metadata": {
        "id": "Mi8trd_mgd9S"
      },
      "outputs": [],
      "source": [
        "from sklearn import svm\n",
        "SV_classifier = svm.SVC(kernel='poly', C = 0.001)  # building classifier\n",
        "SV_classifier.fit(x_train, y_train) # training\n",
        "y_predect= SV_classifier.predict(x_test)  #testing"
      ]
    },
    {
      "cell_type": "code",
      "execution_count": 13,
      "metadata": {
        "colab": {
          "base_uri": "https://localhost:8080/"
        },
        "id": "kutk_m-PggFO",
        "outputId": "b0dc7bd3-ae68-4d32-a475-86bea8e01cd2"
      },
      "outputs": [
        {
          "output_type": "stream",
          "name": "stdout",
          "text": [
            "Accuracy:  0.8931466470154753\n",
            "[[  72   70]\n",
            " [  72 1143]]\n",
            "recall 0.9950617283950617\n",
            "percision 0.8968842729970327\n",
            "f1 =  0.9434256730394069\n"
          ]
        }
      ],
      "source": [
        "# Acuracy and confusion matrix\n",
        "from sklearn import metrics\n",
        "Accuracy=metrics.accuracy_score(y_test, y_predect) # calculating accuaracy\n",
        "print('Accuracy: ', Accuracy) # Is this a good metric??\n",
        "con_matrix = metrics.confusion_matrix(y_test, y_pred)\n",
        "print (con_matrix)\n",
        "recall = metrics.recall_score(y_test, y_predect)\n",
        "print ('recall', recall)\n",
        "percision=metrics.precision_score(y_test, y_predect)\n",
        "print('percision', percision)\n",
        "f1=metrics.f1_score(y_test, y_predect)\n",
        "print('f1 = ',f1)"
      ]
    }
  ],
  "metadata": {
    "colab": {
      "provenance": []
    },
    "kernelspec": {
      "display_name": "Python 3",
      "name": "python3"
    },
    "language_info": {
      "name": "python"
    }
  },
  "nbformat": 4,
  "nbformat_minor": 0
}
